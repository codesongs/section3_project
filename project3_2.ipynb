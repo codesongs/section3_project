{
  "nbformat": 4,
  "nbformat_minor": 0,
  "metadata": {
    "colab": {
      "provenance": []
    },
    "kernelspec": {
      "name": "python3",
      "display_name": "Python 3"
    },
    "language_info": {
      "name": "python"
    }
  },
  "cells": [
    {
      "cell_type": "code",
      "execution_count": null,
      "metadata": {
        "colab": {
          "base_uri": "https://localhost:8080/"
        },
        "id": "ikn2MLxkgVhs",
        "outputId": "6e4d18c7-9305-43fa-b0ea-43d74e2eb269"
      },
      "outputs": [
        {
          "output_type": "stream",
          "name": "stdout",
          "text": [
            "Looking in indexes: https://pypi.org/simple, https://us-python.pkg.dev/colab-wheels/public/simple/\n",
            "Collecting jamo\n",
            "  Downloading jamo-0.4.1-py3-none-any.whl (9.5 kB)\n",
            "Installing collected packages: jamo\n",
            "Successfully installed jamo-0.4.1\n"
          ]
        }
      ],
      "source": [
        "!pip install jamo"
      ]
    },
    {
      "cell_type": "code",
      "source": [
        "import os\n",
        "import numpy as np\n",
        "import tensorflow as tf\n",
        "from tensorflow.keras.layers import Input, Conv1D, LSTM, Dense, Embedding, RepeatVector, Concatenate, Reshape, TimeDistributed\n",
        "from tensorflow.keras.models import Model\n",
        "from tensorflow.keras.optimizers import Adam\n",
        "from tensorflow.keras.losses import MeanSquaredError\n",
        "from tensorflow.keras.callbacks import ModelCheckpoint\n",
        "from scipy.io.wavfile import read, write\n",
        "import librosa\n",
        "from tqdm import tqdm"
      ],
      "metadata": {
        "id": "NxL8PuDqgaDI"
      },
      "execution_count": null,
      "outputs": []
    },
    {
      "cell_type": "code",
      "source": [
        "from google.colab import drive\n",
        "drive.mount('/content/drive')"
      ],
      "metadata": {
        "colab": {
          "base_uri": "https://localhost:8080/"
        },
        "id": "SE2XdyY4gafx",
        "outputId": "946e04fc-31cb-4f42-d856-f4f7ddbdc2dd"
      },
      "execution_count": null,
      "outputs": [
        {
          "output_type": "stream",
          "name": "stdout",
          "text": [
            "Mounted at /content/drive\n"
          ]
        }
      ]
    },
    {
      "cell_type": "code",
      "source": [
        "train_data_path = '/content/drive/MyDrive/dataset/voice/ljs_audio_text_train_filelist.txt'\n",
        "val_data_path =  '/content/drive/MyDrive/dataset/voice/ljs_audio_text_val_filelist.txt'\n",
        "wav_path = '/content/drive/MyDrive/dataset/voice/'"
      ],
      "metadata": {
        "id": "AonsUEFCgcVN"
      },
      "execution_count": null,
      "outputs": []
    },
    {
      "cell_type": "code",
      "source": [
        "import random\n",
        "\n",
        "def load_data(file_path, wav_path, subset_ratio=None):\n",
        "    data = []\n",
        "    with open(file_path, 'r') as f:\n",
        "        lines = f.readlines()\n",
        "        if subset_ratio:\n",
        "            random.shuffle(lines)\n",
        "            num_samples = int(len(lines) * subset_ratio)\n",
        "            lines = lines[:num_samples]\n",
        "        for line in lines:\n",
        "            wav_file, text = line.strip().split(\"|\")\n",
        "            wav_file_path = os.path.join(wav_path, wav_file[10:])\n",
        "            audio, _ = librosa.load(wav_file_path, sr=None)\n",
        "            data.append((audio, text))\n",
        "    return data"
      ],
      "metadata": {
        "id": "umkTb6UNgeRa"
      },
      "execution_count": null,
      "outputs": []
    },
    {
      "cell_type": "code",
      "source": [
        "# 데이터셋이 많아 학습 및 로딩시간이 매우 기므로 20%만 랜덤 추출 (시험용)\n",
        "\n",
        "train_data = load_data(train_data_path, wav_path, subset_ratio=0.2)\n",
        "val_data = load_data(val_data_path, wav_path, subset_ratio=0.2)"
      ],
      "metadata": {
        "id": "hSpRs8F4ggna"
      },
      "execution_count": null,
      "outputs": []
    },
    {
      "cell_type": "code",
      "source": [
        "# 한글을 초성 중성 종성으로 분리한 후 각각 숫자로 임베딩\n",
        "\n",
        "import re\n",
        "import unicodedata\n",
        "\n",
        "CHOSUNGS = \"\".join([chr(_) for _ in range(0x1100, 0x1113)])\n",
        "JOONGSUNGS = \"\".join([chr(_) for _ in range(0x1161, 0x1176)])\n",
        "JONGSUNGS = \"\".join([chr(_) for _ in range(0x11A8, 0x11C3)])\n",
        "ALPHABETS = \"ABCDEFGHIJKLMNOPQRSTUVWXYZ\"\n",
        "NUMBERS = \"0123456789\"\n",
        "SPECIALS = \" ?!\"\n",
        "\n",
        "ALL_VOCABS = \"\".join([\n",
        "    CHOSUNGS,\n",
        "    JOONGSUNGS,\n",
        "    JONGSUNGS,\n",
        "    ALPHABETS,\n",
        "    NUMBERS,\n",
        "    SPECIALS\n",
        "])\n",
        "VOCAB_DICT = {\n",
        "    \"_\": 0,\n",
        "    \"~\": 1,\n",
        "}\n",
        "\n",
        "for idx, v in enumerate(ALL_VOCABS):\n",
        "    VOCAB_DICT[v] = idx + 2\n",
        "\n",
        "\n",
        "def normalize(text):\n",
        "    text = unicodedata.normalize('NFKD', text)\n",
        "    text = text.upper()\n",
        "    text = text.replace('%', unicodedata.normalize('NFKD', '퍼센트'))\n",
        "    regex = unicodedata.normalize('NFKD', r\"[^ \\u11A8-\\u11FF\\u1100-\\u115E\\u1161-\\u11A70-9A-Z?!]\")\n",
        "    text = re.sub(regex, '', text)\n",
        "    text = re.sub(' +', ' ', text)\n",
        "    text = text.strip()\n",
        "    return text\n",
        "\n",
        "\n",
        "def tokenize(text, encoding: bool = True):\n",
        "    tokens = list()\n",
        "\n",
        "    for t in text:\n",
        "        if encoding:\n",
        "            tokens.append(VOCAB_DICT[t])\n",
        "        else:\n",
        "            tokens.append(t)\n",
        "\n",
        "    if encoding:\n",
        "        tokens.append(VOCAB_DICT['~'])\n",
        "    else:\n",
        "        tokens.append('~')\n",
        "\n",
        "    return tokens\n",
        "\n",
        "\n",
        "def text_to_sequence(text):\n",
        "    text = normalize(text)\n",
        "    tokens = tokenize(text, encoding=True)\n",
        "    return tokens\n",
        "\n",
        "# Example usage\n",
        "text = \"안녕하세요\"\n",
        "embedding = text_to_sequence(text)\n",
        "print(embedding)"
      ],
      "metadata": {
        "colab": {
          "base_uri": "https://localhost:8080/"
        },
        "id": "UQYUNcjAgwxk",
        "outputId": "ec868771-a3c2-4b7f-d2ea-6514309c6279"
      },
      "execution_count": null,
      "outputs": [
        {
          "output_type": "stream",
          "name": "stdout",
          "text": [
            "[13, 21, 45, 4, 27, 62, 20, 21, 11, 26, 13, 33, 1]\n"
          ]
        }
      ]
    },
    {
      "cell_type": "code",
      "source": [
        "from keras.utils import pad_sequences\n",
        "\n",
        "# Preprocess data(text)\n",
        "train_wavs, train_texts = zip(*train_data)\n",
        "val_wavs, val_texts = zip(*val_data)\n",
        "\n",
        "max_audio_length = 200\n",
        "output_dim = 400\n",
        "\n",
        "# Convert text to sequence\n",
        "train_texts = [text_to_sequence(text) for text in train_texts]\n",
        "val_texts = [text_to_sequence(text) for text in val_texts]\n",
        "\n",
        "# Padding sequences for train and val texts\n",
        "train_texts = pad_sequences(train_texts, dtype='int32', padding='post', maxlen=140)\n",
        "val_texts = pad_sequences(val_texts, dtype='int32', padding='post', maxlen=140)\n",
        "\n",
        "# Expanding the dimension of the text data\n",
        "train_texts = np.expand_dims(train_texts, axis=1)\n",
        "val_texts = np.expand_dims(val_texts, axis=1)"
      ],
      "metadata": {
        "id": "CRHPopD1g1l3"
      },
      "execution_count": null,
      "outputs": []
    },
    {
      "cell_type": "code",
      "source": [
        "# Padding and reshaping train and val wavs\n",
        "train_wavs_mel = []\n",
        "for audio in train_wavs:\n",
        "    if len(audio.shape) == 1:\n",
        "        audio = audio[:80000]  # Cut if size exceeds 80000\n",
        "        audio = np.pad(audio, (0, max(0, 80000 - len(audio))))  # Pad if size is less than 80000\n",
        "        audio = audio.reshape(-1, 400)[:200, :]  # Reshape to 2D and cut to fit into (200, 400)\n",
        "    train_wavs_mel.append(audio)\n",
        "\n",
        "val_wavs_mel = []\n",
        "for audio in val_wavs:\n",
        "    if len(audio.shape) == 1:\n",
        "        audio = audio[:80000]  # Cut if size exceeds 80000\n",
        "        audio = np.pad(audio, (0, max(0, 80000 - len(audio))))  # Pad if size is less than 80000\n",
        "        audio = audio.reshape(-1, 400)[:200, :]  # Reshape to 2D and cut to fit into (200, 400)\n",
        "    val_wavs_mel.append(audio)\n",
        "\n",
        "train_wavs_mel = np.array(train_wavs_mel)\n",
        "val_wavs_mel = np.array(val_wavs_mel)"
      ],
      "metadata": {
        "id": "tz1Gn4eVg4Fg"
      },
      "execution_count": null,
      "outputs": []
    },
    {
      "cell_type": "code",
      "source": [
        "max_text_length = 140 # 최대 문장 길이\n",
        "vocab_size = 10000 # 단어 사전 크기\n",
        "embedding_dim = 256 # 임베딩 차원\n",
        "latent_dim = 64 # 잠재 공간 차원\n",
        "output_length = 100 # 출력 길이\n",
        "output_dim = 400  # 출력 차원\n",
        "max_audio_length = 200   # 음성 길이"
      ],
      "metadata": {
        "id": "rdCV0GaVgl_N"
      },
      "execution_count": null,
      "outputs": []
    },
    {
      "cell_type": "code",
      "source": [
        "from tensorflow.keras.models import Model\n",
        "from tensorflow.keras.layers import Input, LSTM, Dense, LayerNormalization\n",
        "from tensorflow.keras.layers import MultiHeadAttention\n",
        "\n",
        "def create_tts_model(input_dim_text, input_dim_audio, hidden_dim, num_heads):\n",
        "    # Define inputs\n",
        "    text_input = Input(shape=(1, input_dim_text), name=\"text_input\")\n",
        "    audio_input = Input(shape=(200, input_dim_audio), name=\"audio_input\")\n",
        "\n",
        "    # Use LSTM to map text_input to the same dimension as audio_input\n",
        "    text_mapped = LSTM(input_dim_audio, return_sequences=True)(text_input)\n",
        "\n",
        "    # Transformer encoder\n",
        "    attention = MultiHeadAttention(num_heads=num_heads, key_dim=hidden_dim)(text_mapped, audio_input)\n",
        "    attention = LayerNormalization(epsilon=1e-6)(attention + audio_input)\n",
        "    output = Dense(input_dim_audio)(attention)\n",
        "\n",
        "    model = Model(inputs=[text_input, audio_input], outputs=output)\n",
        "    \n",
        "    return model\n",
        "\n",
        "# Create the TTS model\n",
        "tts_model = create_tts_model(input_dim_text=140, input_dim_audio=400, hidden_dim=64, num_heads=2)\n",
        "tts_model.compile(optimizer='adam', loss='mse')"
      ],
      "metadata": {
        "id": "NSAoNOA7gnhH"
      },
      "execution_count": null,
      "outputs": []
    },
    {
      "cell_type": "code",
      "source": [
        "# 모델 생성\n",
        "model = tts_model\n",
        "model.summary()"
      ],
      "metadata": {
        "colab": {
          "base_uri": "https://localhost:8080/"
        },
        "id": "4I81niA6gsJm",
        "outputId": "b74f91ea-dd41-437d-9524-ff66e47e10e2"
      },
      "execution_count": null,
      "outputs": [
        {
          "output_type": "stream",
          "name": "stdout",
          "text": [
            "Model: \"model_29\"\n",
            "__________________________________________________________________________________________________\n",
            " Layer (type)                   Output Shape         Param #     Connected to                     \n",
            "==================================================================================================\n",
            " text_input (InputLayer)        [(None, 1, 140)]     0           []                               \n",
            "                                                                                                  \n",
            " lstm_26 (LSTM)                 (None, 1, 400)       865600      ['text_input[0][0]']             \n",
            "                                                                                                  \n",
            " audio_input (InputLayer)       [(None, 200, 400)]   0           []                               \n",
            "                                                                                                  \n",
            " multi_head_attention_10 (Multi  (None, 1, 400)      205584      ['lstm_26[0][0]',                \n",
            " HeadAttention)                                                   'audio_input[0][0]']            \n",
            "                                                                                                  \n",
            " tf.__operators__.add_14 (TFOpL  (None, 200, 400)    0           ['multi_head_attention_10[0][0]',\n",
            " ambda)                                                           'audio_input[0][0]']            \n",
            "                                                                                                  \n",
            " layer_normalization_10 (LayerN  (None, 200, 400)    800         ['tf.__operators__.add_14[0][0]']\n",
            " ormalization)                                                                                    \n",
            "                                                                                                  \n",
            " dense_21 (Dense)               (None, 200, 400)     160400      ['layer_normalization_10[0][0]'] \n",
            "                                                                                                  \n",
            "==================================================================================================\n",
            "Total params: 1,232,384\n",
            "Trainable params: 1,232,384\n",
            "Non-trainable params: 0\n",
            "__________________________________________________________________________________________________\n"
          ]
        }
      ]
    },
    {
      "cell_type": "code",
      "source": [
        "from tensorflow import keras\n",
        "keras.utils.plot_model(model, show_shapes=True)"
      ],
      "metadata": {
        "colab": {
          "base_uri": "https://localhost:8080/",
          "height": 644
        },
        "id": "uSfV-kcpgtco",
        "outputId": "d92fb52b-790c-4165-a594-9e848d88fa83"
      },
      "execution_count": null,
      "outputs": [
        {
          "output_type": "execute_result",
          "data": {
            "image/png": "[encoded data removed]",
            "text/plain": [
              "<IPython.core.display.Image object>"
            ]
          },
          "metadata": {},
          "execution_count": 167
        }
      ]
    },
    {
      "cell_type": "code",
      "source": [
        "text_data = np.array(train_texts, dtype=np.float32).reshape((-1, 1, 140))\n",
        "val_text_data = np.array(val_texts, dtype=np.float32).reshape((-1, 1, 140))\n",
        "audio_data = train_wavs_mel\n",
        "val_audio_data = val_wavs_mel\n",
        "\n",
        "# Training the model\n",
        "tts_model.fit([text_data, audio_data], audio_data, epochs=100, batch_size=32, validation_data=([val_text_data, val_audio_data], val_audio_data))"
      ],
      "metadata": {
        "colab": {
          "base_uri": "https://localhost:8080/"
        },
        "id": "Jyqb1RMkhRsa",
        "outputId": "edaa8c4e-c5de-4b50-899b-11672d283011"
      },
      "execution_count": null,
      "outputs": [
        {
          "output_type": "stream",
          "name": "stdout",
          "text": [
            "Epoch 1/100\n",
            "19/19 [==============================] - 12s 425ms/step - loss: 0.4280 - val_loss: 0.1457\n",
            "Epoch 2/100\n",
            "19/19 [==============================] - 6s 310ms/step - loss: 0.0796 - val_loss: 0.0132\n",
            "Epoch 3/100\n",
            "19/19 [==============================] - 7s 397ms/step - loss: 0.0095 - val_loss: 0.0060\n",
            "Epoch 4/100\n",
            "19/19 [==============================] - 5s 275ms/step - loss: 0.0059 - val_loss: 0.0050\n",
            "Epoch 5/100\n",
            "19/19 [==============================] - 7s 382ms/step - loss: 0.0051 - val_loss: 0.0045\n",
            "Epoch 6/100\n",
            "19/19 [==============================] - 5s 276ms/step - loss: 0.0046 - val_loss: 0.0041\n",
            "Epoch 7/100\n",
            "19/19 [==============================] - 5s 264ms/step - loss: 0.0042 - val_loss: 0.0038\n",
            "Epoch 8/100\n",
            "19/19 [==============================] - 7s 378ms/step - loss: 0.0039 - val_loss: 0.0035\n",
            "Epoch 9/100\n",
            "19/19 [==============================] - 6s 301ms/step - loss: 0.0036 - val_loss: 0.0032\n",
            "Epoch 10/100\n",
            "19/19 [==============================] - 7s 397ms/step - loss: 0.0034 - val_loss: 0.0030\n",
            "Epoch 11/100\n",
            "19/19 [==============================] - 5s 287ms/step - loss: 0.0032 - val_loss: 0.0028\n",
            "Epoch 12/100\n",
            "19/19 [==============================] - 6s 292ms/step - loss: 0.0030 - val_loss: 0.0027\n",
            "Epoch 13/100\n",
            "19/19 [==============================] - 7s 360ms/step - loss: 0.0029 - val_loss: 0.0025\n",
            "Epoch 14/100\n",
            "19/19 [==============================] - 5s 267ms/step - loss: 0.0028 - val_loss: 0.0024\n",
            "Epoch 15/100\n",
            "19/19 [==============================] - 8s 408ms/step - loss: 0.0026 - val_loss: 0.0023\n",
            "Epoch 16/100\n",
            "19/19 [==============================] - 5s 267ms/step - loss: 0.0025 - val_loss: 0.0022\n",
            "Epoch 17/100\n",
            "19/19 [==============================] - 6s 310ms/step - loss: 0.0024 - val_loss: 0.0021\n",
            "Epoch 18/100\n",
            "19/19 [==============================] - 6s 325ms/step - loss: 0.0024 - val_loss: 0.0020\n",
            "Epoch 19/100\n",
            "19/19 [==============================] - 8s 403ms/step - loss: 0.0023 - val_loss: 0.0020\n",
            "Epoch 20/100\n",
            "19/19 [==============================] - 12s 614ms/step - loss: 0.0022 - val_loss: 0.0019\n",
            "Epoch 21/100\n",
            "19/19 [==============================] - 7s 367ms/step - loss: 0.0021 - val_loss: 0.0018\n",
            "Epoch 22/100\n",
            "19/19 [==============================] - 8s 444ms/step - loss: 0.0021 - val_loss: 0.0018\n",
            "Epoch 23/100\n",
            "19/19 [==============================] - 7s 388ms/step - loss: 0.0020 - val_loss: 0.0017\n",
            "Epoch 24/100\n",
            "19/19 [==============================] - 5s 273ms/step - loss: 0.0020 - val_loss: 0.0017\n",
            "Epoch 25/100\n",
            "19/19 [==============================] - 6s 344ms/step - loss: 0.0019 - val_loss: 0.0016\n",
            "Epoch 26/100\n",
            "19/19 [==============================] - 6s 310ms/step - loss: 0.0019 - val_loss: 0.0016\n",
            "Epoch 27/100\n",
            "19/19 [==============================] - 6s 293ms/step - loss: 0.0018 - val_loss: 0.0016\n",
            "Epoch 28/100\n",
            "19/19 [==============================] - 7s 367ms/step - loss: 0.0018 - val_loss: 0.0015\n",
            "Epoch 29/100\n",
            "19/19 [==============================] - 5s 273ms/step - loss: 0.0017 - val_loss: 0.0015\n",
            "Epoch 30/100\n",
            "19/19 [==============================] - 7s 384ms/step - loss: 0.0017 - val_loss: 0.0015\n",
            "Epoch 31/100\n",
            "19/19 [==============================] - 5s 285ms/step - loss: 0.0017 - val_loss: 0.0014\n",
            "Epoch 32/100\n",
            "19/19 [==============================] - 6s 307ms/step - loss: 0.0016 - val_loss: 0.0014\n",
            "Epoch 33/100\n",
            "19/19 [==============================] - 7s 340ms/step - loss: 0.0016 - val_loss: 0.0014\n",
            "Epoch 34/100\n",
            "19/19 [==============================] - 5s 269ms/step - loss: 0.0016 - val_loss: 0.0013\n",
            "Epoch 35/100\n",
            "19/19 [==============================] - 7s 368ms/step - loss: 0.0015 - val_loss: 0.0013\n",
            "Epoch 36/100\n",
            "19/19 [==============================] - 6s 297ms/step - loss: 0.0015 - val_loss: 0.0013\n",
            "Epoch 37/100\n",
            "19/19 [==============================] - 7s 356ms/step - loss: 0.0015 - val_loss: 0.0013\n",
            "Epoch 38/100\n",
            "19/19 [==============================] - 6s 294ms/step - loss: 0.0015 - val_loss: 0.0012\n",
            "Epoch 39/100\n",
            "19/19 [==============================] - 5s 287ms/step - loss: 0.0014 - val_loss: 0.0012\n",
            "Epoch 40/100\n",
            "19/19 [==============================] - 7s 392ms/step - loss: 0.0014 - val_loss: 0.0012\n",
            "Epoch 41/100\n",
            "19/19 [==============================] - 5s 278ms/step - loss: 0.0014 - val_loss: 0.0012\n",
            "Epoch 42/100\n",
            "19/19 [==============================] - 7s 373ms/step - loss: 0.0014 - val_loss: 0.0012\n",
            "Epoch 43/100\n",
            "19/19 [==============================] - 5s 271ms/step - loss: 0.0013 - val_loss: 0.0011\n",
            "Epoch 44/100\n",
            "19/19 [==============================] - 5s 280ms/step - loss: 0.0013 - val_loss: 0.0011\n",
            "Epoch 45/100\n",
            "19/19 [==============================] - 7s 381ms/step - loss: 0.0013 - val_loss: 0.0011\n",
            "Epoch 46/100\n",
            "19/19 [==============================] - 5s 277ms/step - loss: 0.0013 - val_loss: 0.0011\n",
            "Epoch 47/100\n",
            "19/19 [==============================] - 7s 392ms/step - loss: 0.0013 - val_loss: 0.0011\n",
            "Epoch 48/100\n",
            "19/19 [==============================] - 5s 271ms/step - loss: 0.0013 - val_loss: 0.0011\n",
            "Epoch 49/100\n",
            "19/19 [==============================] - 6s 330ms/step - loss: 0.0012 - val_loss: 0.0010\n",
            "Epoch 50/100\n",
            "19/19 [==============================] - 7s 343ms/step - loss: 0.0012 - val_loss: 0.0010\n",
            "Epoch 51/100\n",
            "19/19 [==============================] - 5s 282ms/step - loss: 0.0012 - val_loss: 0.0010\n",
            "Epoch 52/100\n",
            "19/19 [==============================] - 7s 400ms/step - loss: 0.0012 - val_loss: 0.0010\n",
            "Epoch 53/100\n",
            "19/19 [==============================] - 5s 280ms/step - loss: 0.0012 - val_loss: 9.9170e-04\n",
            "Epoch 54/100\n",
            "19/19 [==============================] - 8s 410ms/step - loss: 0.0012 - val_loss: 9.7571e-04\n",
            "Epoch 55/100\n",
            "19/19 [==============================] - 5s 282ms/step - loss: 0.0012 - val_loss: 9.6795e-04\n",
            "Epoch 56/100\n",
            "19/19 [==============================] - 6s 321ms/step - loss: 0.0011 - val_loss: 9.5417e-04\n",
            "Epoch 57/100\n",
            "19/19 [==============================] - 7s 353ms/step - loss: 0.0011 - val_loss: 9.5314e-04\n",
            "Epoch 58/100\n",
            "19/19 [==============================] - 6s 321ms/step - loss: 0.0011 - val_loss: 9.4275e-04\n",
            "Epoch 59/100\n",
            "19/19 [==============================] - 8s 401ms/step - loss: 0.0011 - val_loss: 9.3005e-04\n",
            "Epoch 60/100\n",
            "19/19 [==============================] - 5s 288ms/step - loss: 0.0011 - val_loss: 9.5843e-04\n",
            "Epoch 61/100\n",
            "19/19 [==============================] - 7s 389ms/step - loss: 0.0011 - val_loss: 9.3716e-04\n",
            "Epoch 62/100\n",
            "19/19 [==============================] - 5s 283ms/step - loss: 0.0011 - val_loss: 8.9959e-04\n",
            "Epoch 63/100\n",
            "19/19 [==============================] - 5s 286ms/step - loss: 0.0011 - val_loss: 8.8687e-04\n",
            "Epoch 64/100\n",
            "19/19 [==============================] - 7s 357ms/step - loss: 0.0010 - val_loss: 8.8514e-04\n",
            "Epoch 65/100\n",
            "19/19 [==============================] - 5s 269ms/step - loss: 0.0010 - val_loss: 8.5015e-04\n",
            "Epoch 66/100\n",
            "19/19 [==============================] - 7s 397ms/step - loss: 0.0010 - val_loss: 8.5973e-04\n",
            "Epoch 67/100\n",
            "19/19 [==============================] - 5s 274ms/step - loss: 0.0010 - val_loss: 8.6785e-04\n",
            "Epoch 68/100\n",
            "19/19 [==============================] - 6s 341ms/step - loss: 0.0010 - val_loss: 8.5376e-04\n",
            "Epoch 69/100\n",
            "19/19 [==============================] - 6s 308ms/step - loss: 9.9458e-04 - val_loss: 8.5037e-04\n",
            "Epoch 70/100\n",
            "19/19 [==============================] - 5s 287ms/step - loss: 9.9091e-04 - val_loss: 8.4568e-04\n",
            "Epoch 71/100\n",
            "19/19 [==============================] - 7s 381ms/step - loss: 9.8165e-04 - val_loss: 8.4441e-04\n",
            "Epoch 72/100\n",
            "19/19 [==============================] - 5s 276ms/step - loss: 9.8958e-04 - val_loss: 8.1849e-04\n",
            "Epoch 73/100\n",
            "19/19 [==============================] - 7s 383ms/step - loss: 9.5705e-04 - val_loss: 8.1268e-04\n",
            "Epoch 74/100\n",
            "19/19 [==============================] - 5s 252ms/step - loss: 9.5260e-04 - val_loss: 8.2156e-04\n",
            "Epoch 75/100\n",
            "19/19 [==============================] - 5s 267ms/step - loss: 9.4032e-04 - val_loss: 7.8233e-04\n",
            "Epoch 76/100\n",
            "19/19 [==============================] - 7s 391ms/step - loss: 9.4364e-04 - val_loss: 7.8626e-04\n",
            "Epoch 77/100\n",
            "19/19 [==============================] - 5s 272ms/step - loss: 9.3300e-04 - val_loss: 7.9545e-04\n",
            "Epoch 78/100\n",
            "19/19 [==============================] - 7s 363ms/step - loss: 9.2931e-04 - val_loss: 7.7171e-04\n",
            "Epoch 79/100\n",
            "19/19 [==============================] - 5s 260ms/step - loss: 9.0094e-04 - val_loss: 7.7616e-04\n",
            "Epoch 80/100\n",
            "19/19 [==============================] - 5s 279ms/step - loss: 9.2317e-04 - val_loss: 7.8265e-04\n",
            "Epoch 81/100\n",
            "19/19 [==============================] - 7s 367ms/step - loss: 9.0056e-04 - val_loss: 7.5875e-04\n",
            "Epoch 82/100\n",
            "19/19 [==============================] - 5s 266ms/step - loss: 8.7908e-04 - val_loss: 7.2325e-04\n",
            "Epoch 83/100\n",
            "19/19 [==============================] - 7s 365ms/step - loss: 8.7592e-04 - val_loss: 7.2820e-04\n",
            "Epoch 84/100\n",
            "19/19 [==============================] - 5s 268ms/step - loss: 8.6631e-04 - val_loss: 7.5699e-04\n",
            "Epoch 85/100\n",
            "19/19 [==============================] - 5s 276ms/step - loss: 8.5724e-04 - val_loss: 7.1741e-04\n",
            "Epoch 86/100\n",
            "19/19 [==============================] - 7s 391ms/step - loss: 8.3983e-04 - val_loss: 7.2186e-04\n",
            "Epoch 87/100\n",
            "19/19 [==============================] - 5s 265ms/step - loss: 8.3676e-04 - val_loss: 7.1778e-04\n",
            "Epoch 88/100\n",
            "19/19 [==============================] - 6s 341ms/step - loss: 8.4505e-04 - val_loss: 7.1051e-04\n",
            "Epoch 89/100\n",
            "19/19 [==============================] - 5s 261ms/step - loss: 8.5183e-04 - val_loss: 7.0100e-04\n",
            "Epoch 90/100\n",
            "19/19 [==============================] - 5s 272ms/step - loss: 8.1199e-04 - val_loss: 6.8858e-04\n",
            "Epoch 91/100\n",
            "19/19 [==============================] - 7s 386ms/step - loss: 7.9528e-04 - val_loss: 6.6210e-04\n",
            "Epoch 92/100\n",
            "19/19 [==============================] - 5s 270ms/step - loss: 7.9401e-04 - val_loss: 6.9941e-04\n",
            "Epoch 93/100\n",
            "19/19 [==============================] - 7s 385ms/step - loss: 8.0289e-04 - val_loss: 6.6954e-04\n",
            "Epoch 94/100\n",
            "19/19 [==============================] - 6s 285ms/step - loss: 7.9016e-04 - val_loss: 6.6941e-04\n",
            "Epoch 95/100\n",
            "19/19 [==============================] - 6s 299ms/step - loss: 7.9176e-04 - val_loss: 6.8145e-04\n",
            "Epoch 96/100\n",
            "19/19 [==============================] - 7s 359ms/step - loss: 7.6194e-04 - val_loss: 6.5211e-04\n",
            "Epoch 97/100\n",
            "19/19 [==============================] - 5s 274ms/step - loss: 7.4466e-04 - val_loss: 6.3916e-04\n",
            "Epoch 98/100\n",
            "19/19 [==============================] - 7s 381ms/step - loss: 7.4703e-04 - val_loss: 6.1912e-04\n",
            "Epoch 99/100\n",
            "19/19 [==============================] - 5s 263ms/step - loss: 7.3794e-04 - val_loss: 6.7602e-04\n",
            "Epoch 100/100\n",
            "19/19 [==============================] - 6s 340ms/step - loss: 7.9396e-04 - val_loss: 7.1785e-04\n"
          ]
        },
        {
          "output_type": "execute_result",
          "data": {
            "text/plain": [
              "<keras.callbacks.History at 0x7f21f1ed25f0>"
            ]
          },
          "metadata": {},
          "execution_count": 52
        }
      ]
    },
    {
      "cell_type": "code",
      "source": [
        "tts_model.save('my_model.h5')  # creates a HDF5 file 'my_model.h5'\n",
        "# import matplotlib.pyplot as plt\n",
        "\n",
        "# # Save loss and validation loss data\n",
        "# np.savez(\"loss_history.npz\", loss=history.history['loss'], val_loss=history.history['val_loss'])\n",
        "\n",
        "# # Plot the loss and validation loss curves\n",
        "# epochs = range(1, len(history.history['loss']) + 1)\n",
        "\n",
        "# plt.plot(epochs, history.history['loss'], 'b', label='Training Loss')\n",
        "# plt.plot(epochs, history.history['val_loss'], 'r', label='Validation Loss')\n",
        "# plt.title('Training and Validation Loss')\n",
        "# plt.xlabel('Epochs')\n",
        "# plt.ylabel('Loss')\n",
        "# plt.legend()\n",
        "# plt.savefig(\"loss_curve.png\")\n",
        "# plt.show();"
      ],
      "metadata": {
        "id": "SSjry3mnhTuB"
      },
      "execution_count": null,
      "outputs": []
    },
    {
      "cell_type": "code",
      "source": [
        "from tensorflow.keras.layers import Input, Lambda, Flatten\n",
        "from tensorflow.keras import backend as K\n",
        "\n",
        "# def create_text_to_voice_model(input_dim_text, hidden_dim, num_heads):\n",
        "#     # Define the input for text\n",
        "#     text_input = Input(shape=(1, input_dim_text), name=\"text_input\")\n",
        "\n",
        "#     # Use the \"text-to-voice\" model layers up to the attention layer\n",
        "#     text_mapped = tts_model.get_layer(\"lstm_8\")(text_input)\n",
        "#     attention = tts_model.get_layer(\"multi_head_attention_9\")(text_mapped, tts_model.get_layer(\"audio_input\")(text_mapped))\n",
        "#     attention = tts_model.get_layer(\"layer_normalization_9\")(attention)\n",
        "\n",
        "#     # Adjust the time dimension to match the desired shape\n",
        "#     output = Lambda(lambda x: K.repeat_elements(x, 200, axis=1))(attention)\n",
        "\n",
        "#     # Create the model\n",
        "#     model = Model(inputs=text_input, outputs=output)\n",
        "\n",
        "#     # Set the pre-trained model's layers as non-trainable and transfer the weights\n",
        "#     for layer in model.layers:\n",
        "#         if layer.name in tts_model.layers:\n",
        "#             layer.set_weights(tts_model.get_layer(layer.name).get_weights())\n",
        "#             layer.trainable = False\n",
        "\n",
        "#     return model\n",
        "\n",
        "def create_text_to_voice_model(input_dim_text, hidden_dim, output_sequence_length, output_feature_dim, pretrained_model_path):\n",
        "    # Load the pretrained model\n",
        "    pretrained_model = keras.models.load_model(pretrained_model_path)\n",
        "\n",
        "    # Create a new input for the text data\n",
        "    text_input = Input(shape=(1, input_dim_text), name=\"text_input\")\n",
        "\n",
        "    # Pass the text input through the pretrained model's LSTM and attention layers\n",
        "    lstm_output = pretrained_model.get_layer(\"lstm_26\")(text_input)\n",
        "    attention_output = pretrained_model.get_layer(\"multi_head_attention_10\")(lstm_output, lstm_output)\n",
        "    normalized_output = pretrained_model.get_layer(\"layer_normalization_10\")(attention_output)\n",
        "\n",
        "    # Add a new LSTM layer with the specified hidden dimension\n",
        "    lstm_layer = LSTM(hidden_dim, return_sequences=True)(normalized_output)\n",
        "\n",
        "    # Apply Dense layer to each time step\n",
        "    dense_output = TimeDistributed(Dense(output_feature_dim))(lstm_layer)\n",
        "\n",
        "    # Repeat the output sequence length using a Lambda layer\n",
        "    repeated_output = Lambda(lambda x: K.repeat_elements(x, output_sequence_length, axis=1))(dense_output)\n",
        "\n",
        "    # Create a model with the text input and the repeated output\n",
        "    model = Model(text_input, repeated_output)\n",
        "\n",
        "    return model"
      ],
      "metadata": {
        "id": "_M5sRj3DzxAK"
      },
      "execution_count": null,
      "outputs": []
    },
    {
      "cell_type": "code",
      "source": [
        "text_to_voice_model = create_text_to_voice_model(input_dim_text=140, hidden_dim=64, output_sequence_length=200, output_feature_dim=400, pretrained_model_path='my_model.h5')\n",
        "text_to_voice_model.summary()"
      ],
      "metadata": {
        "colab": {
          "base_uri": "https://localhost:8080/"
        },
        "id": "_EziHDzv1-wX",
        "outputId": "feeec277-3ff1-42e6-f838-a54b95e575f2"
      },
      "execution_count": null,
      "outputs": [
        {
          "output_type": "stream",
          "name": "stdout",
          "text": [
            "Model: \"model_31\"\n",
            "__________________________________________________________________________________________________\n",
            " Layer (type)                   Output Shape         Param #     Connected to                     \n",
            "==================================================================================================\n",
            " text_input (InputLayer)        [(None, 1, 140)]     0           []                               \n",
            "                                                                                                  \n",
            " lstm_26 (LSTM)                 (None, 1, 400)       865600      ['text_input[0][0]']             \n",
            "                                                                                                  \n",
            " multi_head_attention_10 (Multi  (None, 1, 400)      205584      ['lstm_26[1][0]',                \n",
            " HeadAttention)                                                   'lstm_26[1][0]']                \n",
            "                                                                                                  \n",
            " layer_normalization_10 (LayerN  multiple            800         ['multi_head_attention_10[1][0]']\n",
            " ormalization)                                                                                    \n",
            "                                                                                                  \n",
            " lstm_34 (LSTM)                 (None, 1, 64)        119040      ['layer_normalization_10[1][0]'] \n",
            "                                                                                                  \n",
            " time_distributed_4 (TimeDistri  (None, 1, 400)      26000       ['lstm_34[0][0]']                \n",
            " buted)                                                                                           \n",
            "                                                                                                  \n",
            " lambda_4 (Lambda)              (None, 200, 400)     0           ['time_distributed_4[0][0]']     \n",
            "                                                                                                  \n",
            "==================================================================================================\n",
            "Total params: 1,217,024\n",
            "Trainable params: 1,217,024\n",
            "Non-trainable params: 0\n",
            "__________________________________________________________________________________________________\n"
          ]
        }
      ]
    },
    {
      "cell_type": "code",
      "source": [
        "keras.utils.plot_model(text_to_voice_model, show_shapes=True)"
      ],
      "metadata": {
        "colab": {
          "base_uri": "https://localhost:8080/",
          "height": 754
        },
        "id": "BmbwpaAh2aOl",
        "outputId": "58411cb6-ea92-473b-8f80-af8e2d7c3ba0"
      },
      "execution_count": null,
      "outputs": [
        {
          "output_type": "execute_result",
          "data": {
            "image/png": "[encoded data removed]",
            "text/plain": [
              "<IPython.core.display.Image object>"
            ]
          },
          "metadata": {},
          "execution_count": 188
        }
      ]
    },
    {
      "cell_type": "code",
      "source": [
        "from tensorflow.keras.callbacks import History\n",
        "import matplotlib.pyplot as plt\n",
        "\n",
        "# Create an instance of History callback\n",
        "history = History()\n",
        "\n",
        "text_to_voice_model.compile(optimizer='adam', loss='mse')\n",
        "text_to_voice_model.fit(text_data, audio_data, epochs=100, batch_size=32, validation_data=(val_text_data, val_audio_data), callbacks=[history])"
      ],
      "metadata": {
        "colab": {
          "base_uri": "https://localhost:8080/"
        },
        "id": "ejv74n-16L8t",
        "outputId": "4ec1b7e0-7751-4a6f-fab0-8058cc358db7"
      },
      "execution_count": null,
      "outputs": [
        {
          "output_type": "stream",
          "name": "stdout",
          "text": [
            "Epoch 1/100\n",
            "19/19 [==============================] - 10s 161ms/step - loss: 0.0071 - val_loss: 0.0064\n",
            "Epoch 2/100\n",
            "19/19 [==============================] - 1s 61ms/step - loss: 0.0064 - val_loss: 0.0064\n",
            "Epoch 3/100\n",
            "19/19 [==============================] - 1s 61ms/step - loss: 0.0064 - val_loss: 0.0064\n",
            "Epoch 4/100\n",
            "19/19 [==============================] - 1s 60ms/step - loss: 0.0064 - val_loss: 0.0064\n",
            "Epoch 5/100\n",
            "19/19 [==============================] - 1s 46ms/step - loss: 0.0064 - val_loss: 0.0064\n",
            "Epoch 6/100\n",
            "19/19 [==============================] - 1s 46ms/step - loss: 0.0064 - val_loss: 0.0064\n",
            "Epoch 7/100\n",
            "19/19 [==============================] - 1s 46ms/step - loss: 0.0064 - val_loss: 0.0064\n",
            "Epoch 8/100\n",
            "19/19 [==============================] - 1s 52ms/step - loss: 0.0064 - val_loss: 0.0064\n",
            "Epoch 9/100\n",
            "19/19 [==============================] - 2s 87ms/step - loss: 0.0064 - val_loss: 0.0064\n",
            "Epoch 10/100\n",
            "19/19 [==============================] - 2s 90ms/step - loss: 0.0064 - val_loss: 0.0064\n",
            "Epoch 11/100\n",
            "19/19 [==============================] - 1s 63ms/step - loss: 0.0064 - val_loss: 0.0064\n",
            "Epoch 12/100\n",
            "19/19 [==============================] - 1s 48ms/step - loss: 0.0064 - val_loss: 0.0064\n",
            "Epoch 13/100\n",
            "19/19 [==============================] - 1s 61ms/step - loss: 0.0064 - val_loss: 0.0064\n",
            "Epoch 14/100\n",
            "19/19 [==============================] - 1s 47ms/step - loss: 0.0064 - val_loss: 0.0064\n",
            "Epoch 15/100\n",
            "19/19 [==============================] - 1s 46ms/step - loss: 0.0064 - val_loss: 0.0064\n",
            "Epoch 16/100\n",
            "19/19 [==============================] - 1s 45ms/step - loss: 0.0064 - val_loss: 0.0064\n",
            "Epoch 17/100\n",
            "19/19 [==============================] - 1s 45ms/step - loss: 0.0064 - val_loss: 0.0064\n",
            "Epoch 18/100\n",
            "19/19 [==============================] - 1s 46ms/step - loss: 0.0064 - val_loss: 0.0064\n",
            "Epoch 19/100\n",
            "19/19 [==============================] - 1s 54ms/step - loss: 0.0064 - val_loss: 0.0064\n",
            "Epoch 20/100\n",
            "19/19 [==============================] - 1s 52ms/step - loss: 0.0064 - val_loss: 0.0064\n",
            "Epoch 21/100\n",
            "19/19 [==============================] - 1s 52ms/step - loss: 0.0064 - val_loss: 0.0064\n",
            "Epoch 22/100\n",
            "19/19 [==============================] - 2s 83ms/step - loss: 0.0064 - val_loss: 0.0064\n",
            "Epoch 23/100\n",
            "19/19 [==============================] - 2s 79ms/step - loss: 0.0064 - val_loss: 0.0064\n",
            "Epoch 24/100\n",
            "19/19 [==============================] - 1s 68ms/step - loss: 0.0064 - val_loss: 0.0064\n",
            "Epoch 25/100\n",
            "19/19 [==============================] - 1s 54ms/step - loss: 0.0064 - val_loss: 0.0064\n",
            "Epoch 26/100\n",
            "19/19 [==============================] - 1s 45ms/step - loss: 0.0064 - val_loss: 0.0064\n",
            "Epoch 27/100\n",
            "19/19 [==============================] - 1s 46ms/step - loss: 0.0064 - val_loss: 0.0064\n",
            "Epoch 28/100\n",
            "19/19 [==============================] - 1s 54ms/step - loss: 0.0064 - val_loss: 0.0064\n",
            "Epoch 29/100\n",
            "19/19 [==============================] - 1s 54ms/step - loss: 0.0064 - val_loss: 0.0064\n",
            "Epoch 30/100\n",
            "19/19 [==============================] - 1s 54ms/step - loss: 0.0064 - val_loss: 0.0064\n",
            "Epoch 31/100\n",
            "19/19 [==============================] - 1s 61ms/step - loss: 0.0064 - val_loss: 0.0064\n",
            "Epoch 32/100\n",
            "19/19 [==============================] - 1s 61ms/step - loss: 0.0064 - val_loss: 0.0064\n",
            "Epoch 33/100\n",
            "19/19 [==============================] - 1s 66ms/step - loss: 0.0064 - val_loss: 0.0064\n",
            "Epoch 34/100\n",
            "19/19 [==============================] - 1s 70ms/step - loss: 0.0064 - val_loss: 0.0064\n",
            "Epoch 35/100\n",
            "19/19 [==============================] - 1s 78ms/step - loss: 0.0064 - val_loss: 0.0064\n",
            "Epoch 36/100\n",
            "19/19 [==============================] - 1s 71ms/step - loss: 0.0064 - val_loss: 0.0064\n",
            "Epoch 37/100\n",
            "19/19 [==============================] - 1s 71ms/step - loss: 0.0064 - val_loss: 0.0064\n",
            "Epoch 38/100\n",
            "19/19 [==============================] - 1s 53ms/step - loss: 0.0064 - val_loss: 0.0064\n",
            "Epoch 39/100\n",
            "19/19 [==============================] - 1s 57ms/step - loss: 0.0064 - val_loss: 0.0064\n",
            "Epoch 40/100\n",
            "19/19 [==============================] - 1s 48ms/step - loss: 0.0064 - val_loss: 0.0064\n",
            "Epoch 41/100\n",
            "19/19 [==============================] - 1s 47ms/step - loss: 0.0064 - val_loss: 0.0064\n",
            "Epoch 42/100\n",
            "19/19 [==============================] - 1s 47ms/step - loss: 0.0064 - val_loss: 0.0064\n",
            "Epoch 43/100\n",
            "19/19 [==============================] - 1s 47ms/step - loss: 0.0064 - val_loss: 0.0064\n",
            "Epoch 44/100\n",
            "19/19 [==============================] - 1s 46ms/step - loss: 0.0064 - val_loss: 0.0064\n",
            "Epoch 45/100\n",
            "19/19 [==============================] - 1s 46ms/step - loss: 0.0064 - val_loss: 0.0064\n",
            "Epoch 46/100\n",
            "19/19 [==============================] - 1s 46ms/step - loss: 0.0064 - val_loss: 0.0064\n",
            "Epoch 47/100\n",
            "19/19 [==============================] - 1s 55ms/step - loss: 0.0064 - val_loss: 0.0064\n",
            "Epoch 48/100\n",
            "19/19 [==============================] - 1s 58ms/step - loss: 0.0064 - val_loss: 0.0064\n",
            "Epoch 49/100\n",
            "19/19 [==============================] - 2s 86ms/step - loss: 0.0064 - val_loss: 0.0064\n",
            "Epoch 50/100\n",
            "19/19 [==============================] - 2s 88ms/step - loss: 0.0064 - val_loss: 0.0064\n",
            "Epoch 51/100\n",
            "19/19 [==============================] - 1s 76ms/step - loss: 0.0064 - val_loss: 0.0064\n",
            "Epoch 52/100\n",
            "19/19 [==============================] - 1s 62ms/step - loss: 0.0064 - val_loss: 0.0064\n",
            "Epoch 53/100\n",
            "19/19 [==============================] - 1s 61ms/step - loss: 0.0064 - val_loss: 0.0064\n",
            "Epoch 54/100\n",
            "19/19 [==============================] - 1s 62ms/step - loss: 0.0064 - val_loss: 0.0064\n",
            "Epoch 55/100\n",
            "19/19 [==============================] - 1s 51ms/step - loss: 0.0064 - val_loss: 0.0064\n",
            "Epoch 56/100\n",
            "19/19 [==============================] - 1s 45ms/step - loss: 0.0064 - val_loss: 0.0064\n",
            "Epoch 57/100\n",
            "19/19 [==============================] - 1s 54ms/step - loss: 0.0064 - val_loss: 0.0064\n",
            "Epoch 58/100\n",
            "19/19 [==============================] - 1s 62ms/step - loss: 0.0064 - val_loss: 0.0064\n",
            "Epoch 59/100\n",
            "19/19 [==============================] - 1s 51ms/step - loss: 0.0064 - val_loss: 0.0064\n",
            "Epoch 60/100\n",
            "19/19 [==============================] - 2s 85ms/step - loss: 0.0064 - val_loss: 0.0064\n",
            "Epoch 61/100\n",
            "19/19 [==============================] - 1s 75ms/step - loss: 0.0064 - val_loss: 0.0064\n",
            "Epoch 62/100\n",
            "19/19 [==============================] - 2s 87ms/step - loss: 0.0064 - val_loss: 0.0064\n",
            "Epoch 63/100\n",
            "19/19 [==============================] - 1s 57ms/step - loss: 0.0064 - val_loss: 0.0064\n",
            "Epoch 64/100\n",
            "19/19 [==============================] - 1s 48ms/step - loss: 0.0064 - val_loss: 0.0064\n",
            "Epoch 65/100\n",
            "19/19 [==============================] - 1s 64ms/step - loss: 0.0064 - val_loss: 0.0064\n",
            "Epoch 66/100\n",
            "19/19 [==============================] - 1s 60ms/step - loss: 0.0064 - val_loss: 0.0064\n",
            "Epoch 67/100\n",
            "19/19 [==============================] - 1s 60ms/step - loss: 0.0064 - val_loss: 0.0064\n",
            "Epoch 68/100\n",
            "19/19 [==============================] - 1s 60ms/step - loss: 0.0064 - val_loss: 0.0064\n",
            "Epoch 69/100\n",
            "19/19 [==============================] - 1s 50ms/step - loss: 0.0064 - val_loss: 0.0064\n",
            "Epoch 70/100\n",
            "19/19 [==============================] - 1s 45ms/step - loss: 0.0064 - val_loss: 0.0064\n",
            "Epoch 71/100\n",
            "19/19 [==============================] - 1s 54ms/step - loss: 0.0064 - val_loss: 0.0064\n",
            "Epoch 72/100\n",
            "19/19 [==============================] - 1s 68ms/step - loss: 0.0064 - val_loss: 0.0064\n",
            "Epoch 73/100\n",
            "19/19 [==============================] - 1s 66ms/step - loss: 0.0064 - val_loss: 0.0064\n",
            "Epoch 74/100\n",
            "19/19 [==============================] - 1s 65ms/step - loss: 0.0064 - val_loss: 0.0064\n",
            "Epoch 75/100\n",
            "19/19 [==============================] - 1s 65ms/step - loss: 0.0064 - val_loss: 0.0064\n",
            "Epoch 76/100\n",
            "19/19 [==============================] - 1s 54ms/step - loss: 0.0064 - val_loss: 0.0064\n",
            "Epoch 77/100\n",
            "19/19 [==============================] - 1s 46ms/step - loss: 0.0064 - val_loss: 0.0064\n",
            "Epoch 78/100\n",
            "19/19 [==============================] - 1s 45ms/step - loss: 0.0064 - val_loss: 0.0064\n",
            "Epoch 79/100\n",
            "19/19 [==============================] - 1s 45ms/step - loss: 0.0064 - val_loss: 0.0064\n",
            "Epoch 80/100\n",
            "19/19 [==============================] - 1s 47ms/step - loss: 0.0064 - val_loss: 0.0064\n",
            "Epoch 81/100\n",
            "19/19 [==============================] - 1s 46ms/step - loss: 0.0064 - val_loss: 0.0064\n",
            "Epoch 82/100\n",
            "19/19 [==============================] - 1s 58ms/step - loss: 0.0064 - val_loss: 0.0064\n",
            "Epoch 83/100\n",
            "19/19 [==============================] - 1s 47ms/step - loss: 0.0064 - val_loss: 0.0064\n",
            "Epoch 84/100\n",
            "19/19 [==============================] - 1s 44ms/step - loss: 0.0064 - val_loss: 0.0064\n",
            "Epoch 85/100\n",
            "19/19 [==============================] - 1s 46ms/step - loss: 0.0064 - val_loss: 0.0064\n",
            "Epoch 86/100\n",
            "19/19 [==============================] - 1s 46ms/step - loss: 0.0064 - val_loss: 0.0064\n",
            "Epoch 87/100\n",
            "19/19 [==============================] - 1s 58ms/step - loss: 0.0064 - val_loss: 0.0064\n",
            "Epoch 88/100\n",
            "19/19 [==============================] - 1s 68ms/step - loss: 0.0064 - val_loss: 0.0064\n",
            "Epoch 89/100\n",
            "19/19 [==============================] - 1s 67ms/step - loss: 0.0064 - val_loss: 0.0064\n",
            "Epoch 90/100\n",
            "19/19 [==============================] - 1s 68ms/step - loss: 0.0064 - val_loss: 0.0064\n",
            "Epoch 91/100\n",
            "19/19 [==============================] - 1s 49ms/step - loss: 0.0064 - val_loss: 0.0064\n",
            "Epoch 92/100\n",
            "19/19 [==============================] - 1s 46ms/step - loss: 0.0064 - val_loss: 0.0064\n",
            "Epoch 93/100\n",
            "19/19 [==============================] - 1s 47ms/step - loss: 0.0064 - val_loss: 0.0064\n",
            "Epoch 94/100\n",
            "19/19 [==============================] - 1s 45ms/step - loss: 0.0064 - val_loss: 0.0064\n",
            "Epoch 95/100\n",
            "19/19 [==============================] - 1s 47ms/step - loss: 0.0064 - val_loss: 0.0064\n",
            "Epoch 96/100\n",
            "19/19 [==============================] - 1s 47ms/step - loss: 0.0064 - val_loss: 0.0064\n",
            "Epoch 97/100\n",
            "19/19 [==============================] - 1s 52ms/step - loss: 0.0064 - val_loss: 0.0064\n",
            "Epoch 98/100\n",
            "19/19 [==============================] - 1s 56ms/step - loss: 0.0064 - val_loss: 0.0064\n",
            "Epoch 99/100\n",
            "19/19 [==============================] - 1s 47ms/step - loss: 0.0064 - val_loss: 0.0064\n",
            "Epoch 100/100\n",
            "19/19 [==============================] - 1s 50ms/step - loss: 0.0064 - val_loss: 0.0064\n"
          ]
        },
        {
          "output_type": "execute_result",
          "data": {
            "text/plain": [
              "<keras.callbacks.History at 0x7f21db7556f0>"
            ]
          },
          "metadata": {},
          "execution_count": 189
        }
      ]
    },
    {
      "cell_type": "code",
      "source": [
        "loss = history.history['loss']\n",
        "val_loss = history.history['val_loss']\n",
        "\n",
        "# Plot the loss and val_loss\n",
        "epochs = range(1, len(loss) + 1)\n",
        "plt.plot(epochs, loss, 'b', label='Training loss')\n",
        "plt.plot(epochs, val_loss, 'r', label='Validation loss')\n",
        "plt.title('Training and Validation Loss')\n",
        "plt.xlabel('Epochs')\n",
        "plt.ylabel('Loss')\n",
        "plt.legend()\n",
        "plt.show()"
      ],
      "metadata": {
        "colab": {
          "base_uri": "https://localhost:8080/",
          "height": 472
        },
        "id": "n1V5OE-f51ny",
        "outputId": "7c4e9d4c-5a41-4089-b486-4c88407b98e0"
      },
      "execution_count": null,
      "outputs": [
        {
          "output_type": "display_data",
          "data": {
            "text/plain": [
              "<Figure size 640x480 with 1 Axes>"
            ],
            "image/png": "[encoded data removed]"
          },
          "metadata": {}
        }
      ]
    },
    {
      "cell_type": "code",
      "source": [
        "def generate_speech(text, model):\n",
        "    # Preprocess the input text\n",
        "    input_text = pad_sequences([text_to_sequence(text)], dtype='int32', padding='post', maxlen=140)\n",
        "    input_text = np.expand_dims(input_text, axis=1)\n",
        "\n",
        "    generated_speech = model.predict([input_text])\n",
        "\n",
        "    return generated_speech\n",
        "\n",
        "# Use the function to generate speech\n",
        "text = \"안녕하세요 반갑습니다. 저는 발표자입니다.\"\n",
        "generated_speech = generate_speech(text, text_to_voice_model)"
      ],
      "metadata": {
        "colab": {
          "base_uri": "https://localhost:8080/"
        },
        "id": "jOUO0SpohZ7t",
        "outputId": "5adeb051-0dbe-4e34-88fd-5b52d5785de7"
      },
      "execution_count": null,
      "outputs": [
        {
          "output_type": "stream",
          "name": "stdout",
          "text": [
            "1/1 [==============================] - 1s 1s/step\n"
          ]
        }
      ]
    },
    {
      "cell_type": "code",
      "source": [
        "generated_speech.flatten().shape"
      ],
      "metadata": {
        "colab": {
          "base_uri": "https://localhost:8080/"
        },
        "id": "xnXXrJachdBV",
        "outputId": "e9761244-780f-440f-8edb-5912461e195f"
      },
      "execution_count": null,
      "outputs": [
        {
          "output_type": "execute_result",
          "data": {
            "text/plain": [
              "(80000,)"
            ]
          },
          "metadata": {},
          "execution_count": 192
        }
      ]
    },
    {
      "cell_type": "code",
      "source": [
        "generated_speech.T"
      ],
      "metadata": {
        "colab": {
          "base_uri": "https://localhost:8080/"
        },
        "id": "Q_80vmYFC06O",
        "outputId": "91cc121c-fe4e-41a3-8f4e-255e163697b9"
      },
      "execution_count": null,
      "outputs": [
        {
          "output_type": "execute_result",
          "data": {
            "text/plain": [
              "array([[[ 0.00013245],\n",
              "        [ 0.00013245],\n",
              "        [ 0.00013245],\n",
              "        ...,\n",
              "        [ 0.00013245],\n",
              "        [ 0.00013245],\n",
              "        [ 0.00013245]],\n",
              "\n",
              "       [[ 0.00216484],\n",
              "        [ 0.00216484],\n",
              "        [ 0.00216484],\n",
              "        ...,\n",
              "        [ 0.00216484],\n",
              "        [ 0.00216484],\n",
              "        [ 0.00216484]],\n",
              "\n",
              "       [[-0.00031283],\n",
              "        [-0.00031283],\n",
              "        [-0.00031283],\n",
              "        ...,\n",
              "        [-0.00031283],\n",
              "        [-0.00031283],\n",
              "        [-0.00031283]],\n",
              "\n",
              "       ...,\n",
              "\n",
              "       [[ 0.00104678],\n",
              "        [ 0.00104678],\n",
              "        [ 0.00104678],\n",
              "        ...,\n",
              "        [ 0.00104678],\n",
              "        [ 0.00104678],\n",
              "        [ 0.00104678]],\n",
              "\n",
              "       [[ 0.00123615],\n",
              "        [ 0.00123615],\n",
              "        [ 0.00123615],\n",
              "        ...,\n",
              "        [ 0.00123615],\n",
              "        [ 0.00123615],\n",
              "        [ 0.00123615]],\n",
              "\n",
              "       [[ 0.00087974],\n",
              "        [ 0.00087974],\n",
              "        [ 0.00087974],\n",
              "        ...,\n",
              "        [ 0.00087974],\n",
              "        [ 0.00087974],\n",
              "        [ 0.00087974]]], dtype=float32)"
            ]
          },
          "metadata": {},
          "execution_count": 193
        }
      ]
    },
    {
      "cell_type": "code",
      "source": [
        "import soundfile as sf\n",
        "reshaped_array = generated_speech.flatten()\n",
        "mp3_file_path = \"/content/drive/MyDrive/generated_voice_5.mp3\"  # Replace with the desired output file path\n",
        "sf.write(mp3_file_path, reshaped_array, 22050, format='mp3')"
      ],
      "metadata": {
        "id": "u-sXCcIQhbzk"
      },
      "execution_count": null,
      "outputs": []
    }
  ]
}